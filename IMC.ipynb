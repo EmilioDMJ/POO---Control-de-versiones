{
  "nbformat": 4,
  "nbformat_minor": 0,
  "metadata": {
    "colab": {
      "name": "IMC",
      "provenance": [],
      "include_colab_link": true
    },
    "kernelspec": {
      "name": "python3",
      "display_name": "Python 3"
    },
    "language_info": {
      "name": "python"
    }
  },
  "cells": [
    {
      "cell_type": "markdown",
      "metadata": {
        "id": "view-in-github",
        "colab_type": "text"
      },
      "source": [
        "<a href=\"https://colab.research.google.com/github/EmilioDMJ/POO---Control-de-versiones/blob/main/IMC.ipynb\" target=\"_parent\"><img src=\"https://colab.research.google.com/assets/colab-badge.svg\" alt=\"Open In Colab\"/></a>"
      ]
    },
    {
      "cell_type": "markdown",
      "source": [
        "# Indice de Masa Corporal\n",
        "# Emilio Mayor Díaz"
      ],
      "metadata": {
        "id": "5fNaZLTtoZTC"
      }
    },
    {
      "cell_type": "code",
      "execution_count": 12,
      "metadata": {
        "colab": {
          "base_uri": "https://localhost:8080/"
        },
        "id": "aT8q8TERoU_7",
        "outputId": "84c82ef0-7446-472b-fdf3-026130bcbc23",
        "cellView": "form"
      },
      "outputs": [
        {
          "output_type": "stream",
          "name": "stdout",
          "text": [
            "10.553633217993081\n"
          ]
        }
      ],
      "source": [
        "#@title IMC Calculadora POO { run: \"auto\" }\n",
        "Peso = 30.5 #@param {type:\"number\"}\n",
        "Talla = 1.70 #@param {type:\"number\"}\n",
        "imc=Peso/(Talla*Talla)\n",
        "print(imc)"
      ]
    },
    {
      "cell_type": "markdown",
      "source": [
        ""
      ],
      "metadata": {
        "id": "4apEqEvjoWdA"
      }
    }
  ]
}